{
 "cells": [
  {
   "cell_type": "markdown",
   "id": "82c4b019",
   "metadata": {},
   "source": [
    "Desafio:\n",
    "Todos os dias, o nosso sistema atualiza as vendas do dia anterior. O seu trabalho diário, como analista, é enviar um e-mail para a diretoria, assim que começar a trabalhar, com o faturamento e a quantidade de produtos vendidos no dia anterior\n",
    "\n",
    "E-mail da diretoria: seugmail+diretoria@gmail.com\n",
    "Local onde o sistema disponibiliza as vendas do dia anterior: https://drive.google.com/drive/folders/149xknr9JvrlEnhNWO49zPcw0PW5icxga?usp=sharing\n",
    "\n",
    "Para resolver isso, vamos usar o pyautogui, uma biblioteca de automação de comandos do mouse e do teclado\n",
    "\n",
    "Comandos pyautogui: https://pyautogui.readthedocs.io/en/latest/quickstart.html"
   ]
  },
  {
   "cell_type": "code",
   "execution_count": 10,
   "id": "53cecd75",
   "metadata": {},
   "outputs": [],
   "source": [
    "from time import sleep \n",
    "import pyautogui\n",
    "import pyperclip\n",
    "import pandas as pd"
   ]
  },
  {
   "cell_type": "code",
   "execution_count": 11,
   "id": "6177c4de",
   "metadata": {},
   "outputs": [],
   "source": [
    "# Passo 1: Entrar no sistema\n",
    "pyautogui.press('win')\n",
    "pyautogui.write('opera')\n",
    "pyautogui.press('enter')\n",
    "sleep(2)\n",
    "pyperclip.copy('https://drive.google.com/drive/folders/149xknr9JvrlEnhNWO49zPcw0PW5icxga')\n",
    "pyautogui.hotkey('ctrl', 'v')\n",
    "pyautogui.press('enter')"
   ]
  },
  {
   "cell_type": "code",
   "execution_count": 12,
   "id": "3f616c21",
   "metadata": {},
   "outputs": [],
   "source": [
    "# Passo 2: Navegar até o local do relatório\n",
    "sleep(5)\n",
    "pyautogui.click(x=384, y=306, clicks = 2)"
   ]
  },
  {
   "cell_type": "code",
   "execution_count": 13,
   "id": "2a26d9a5",
   "metadata": {},
   "outputs": [],
   "source": [
    "# Passo 3: Fazer o download do arquvio\n",
    "sleep(5)\n",
    "pyautogui.click(x=383, y=361, button = 'right')\n",
    "sleep(2)\n",
    "pyautogui.click(x=531, y=765)"
   ]
  },
  {
   "cell_type": "code",
   "execution_count": 14,
   "id": "32120e89",
   "metadata": {},
   "outputs": [],
   "source": [
    "# Passo 4: Calcular os indicadores\n",
    "sleep(7)\n",
    "tabela = pd.read_excel(r'C:\\Users\\lucas\\Downloads\\Vendas - Dez.xlsx')\n",
    "faturamento = tabela[\"Valor Final\"].sum()\n",
    "quantidade = tabela[\"Quantidade\"].sum()"
   ]
  },
  {
   "cell_type": "code",
   "execution_count": 15,
   "id": "9b985e7f",
   "metadata": {},
   "outputs": [],
   "source": [
    "# Passo 5: Entrar no e-mail\n",
    "pyautogui.hotkey('ctrl', 't')\n",
    "pyperclip.copy('https://mail.google.com/mail/u/0/#inbox')\n",
    "pyautogui.hotkey('ctrl', 'v')\n",
    "pyautogui.press('enter')"
   ]
  },
  {
   "cell_type": "code",
   "execution_count": 16,
   "id": "1860f212",
   "metadata": {},
   "outputs": [],
   "source": [
    "# Passo 6: Enviar o resultado por e-mail\n",
    "sleep(4)\n",
    "pyautogui.click(x=37, y=205)\n",
    "sleep(6)\n",
    "pyautogui.write('lucasmsouzacontato@gmail.com')\n",
    "pyautogui.press('tab')\n",
    "pyautogui.press('tab')\n",
    "pyperclip.copy('Relatório de Vendas')\n",
    "pyautogui.hotkey('ctrl', 'v')\n",
    "pyautogui.press('tab')\n",
    "texto = f\"\"\"\n",
    "Prezados, bom dia\n",
    "\n",
    "O faturamento de ontem foi de: R${faturamento:,.2f}\n",
    "A quantidade de produtos foi de: {quantidade:,}\n",
    "\n",
    "Abs\n",
    "Lucas Mateus\"\"\"\n",
    "pyperclip.copy(texto)\n",
    "pyautogui.hotkey(\"ctrl\", \"v\")\n",
    "pyautogui.hotkey('ctrl', 'enter')\n"
   ]
  }
 ],
 "metadata": {
  "kernelspec": {
   "display_name": "Python 3 (ipykernel)",
   "language": "python",
   "name": "python3"
  },
  "language_info": {
   "codemirror_mode": {
    "name": "ipython",
    "version": 3
   },
   "file_extension": ".py",
   "mimetype": "text/x-python",
   "name": "python",
   "nbconvert_exporter": "python",
   "pygments_lexer": "ipython3",
   "version": "3.9.12"
  }
 },
 "nbformat": 4,
 "nbformat_minor": 5
}
